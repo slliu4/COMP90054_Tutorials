{
  "nbformat": 4,
  "nbformat_minor": 0,
  "metadata": {
    "colab": {
      "name": "Untitled1.ipynb",
      "provenance": [],
      "collapsed_sections": []
    },
    "kernelspec": {
      "name": "python3",
      "display_name": "Python 3"
    },
    "language_info": {
      "name": "python"
    }
  },
  "cells": [
    {
      "cell_type": "code",
      "metadata": {
        "id": "R-oWWinwcHw5"
      },
      "source": [
        "import numpy as np\n",
        "import matplotlib.pyplot as plt"
      ],
      "execution_count": 1,
      "outputs": []
    },
    {
      "cell_type": "code",
      "metadata": {
        "colab": {
          "base_uri": "https://localhost:8080/"
        },
        "id": "b1PT71t1cJqP",
        "outputId": "38cdd73d-6627-44e6-a3e5-6e488236f5c3"
      },
      "source": [
        "\n",
        "param = {}\n",
        "\n",
        "param['grid_size'] = [4,5]\n",
        "param['grids'] = [\n",
        "    [1,5,3,'X','X'],\n",
        "    ['ar','au','ad','al','X'],\n",
        "    [3,2,5,'O','O'],\n",
        "    ['G',1,2,3,4]\n",
        "]\n",
        "\n",
        "\n",
        "param"
      ],
      "execution_count": 2,
      "outputs": [
        {
          "output_type": "execute_result",
          "data": {
            "text/plain": [
              "{'grid_size': [4, 5],\n",
              " 'grids': [[1, 5, 3, 'X', 'X'],\n",
              "  ['ar', 'au', 'ad', 'al', 'X'],\n",
              "  [3, 2, 5, 'O', 'O'],\n",
              "  ['G', 1, 2, 3, 4]]}"
            ]
          },
          "metadata": {
            "tags": []
          },
          "execution_count": 2
        }
      ]
    },
    {
      "cell_type": "code",
      "metadata": {
        "colab": {
          "base_uri": "https://localhost:8080/",
          "height": 269
        },
        "id": "yQ3VzVrereNH",
        "outputId": "529c3df7-03c0-466c-f19c-28efba04b41a"
      },
      "source": [
        "arrows = {'al':np.array([0, -1]),\n",
        "      'au':np.array([-1, 0]),\n",
        "      'ar':np.array([0, 1]),\n",
        "      'ad':np.array([1, 0])}\n",
        "arraw_size = 0.6\n",
        "len_lim = 4\n",
        "\n",
        "def vis_grid(param):\n",
        "  ws = param['grid_size']\n",
        "  plt.gcf().set_size_inches(ws[1], ws[0])\n",
        "  xticks = np.linspace(0,ws[1],ws[1]+1)\n",
        "  yticks = np.linspace(0,ws[0],ws[0]+1)\n",
        "  plt.xticks(xticks)\n",
        "  plt.yticks(yticks)\n",
        "  plt.xlim(0, ws[1])\n",
        "  plt.ylim(0, ws[0])\n",
        "\n",
        "  for i in range(ws[0]):\n",
        "    for j in range(ws[1]):\n",
        "      t = param['grids'][i][j]\n",
        "      #print (t)\n",
        "      if type(t) is str and len(t) == 2 and t[0] == 'a':\n",
        "        a = arrows[t] * arraw_size/2\n",
        "        \n",
        "        plt.arrow(j+0.5-a[1],ws[1]-2-i+0.5+a[0],a[1]*2,-a[0]*2,head_width=0.15, head_length=0.1, fc='k', ec='k')\n",
        "      else:\n",
        "        if type(t) is not str:\n",
        "          plt.text(j+0.5,ws[1]-2-i+0.5,str(t)[:4],fontsize=30,horizontalalignment='center',verticalalignment='center')\n",
        "        else:\n",
        "          plt.text(j+0.5,ws[1]-2-i+0.5,t,fontsize=40,horizontalalignment='center',verticalalignment='center')\n",
        "\n",
        "  plt.grid(True)\n",
        "\n",
        "vis_grid(param)"
      ],
      "execution_count": 3,
      "outputs": [
        {
          "output_type": "display_data",
          "data": {
            "image/png": "[encoded data removed]",
            "text/plain": [
              "<Figure size 360x288 with 1 Axes>"
            ]
          },
          "metadata": {
            "tags": [],
            "needs_background": "light"
          }
        }
      ]
    },
    {
      "cell_type": "code",
      "metadata": {
        "id": "QSEgdHIKdmM6"
      },
      "source": [
        ""
      ],
      "execution_count": 3,
      "outputs": []
    },
    {
      "cell_type": "code",
      "metadata": {
        "id": "T-h_7DD6fk8p"
      },
      "source": [
        ""
      ],
      "execution_count": 3,
      "outputs": []
    },
    {
      "cell_type": "code",
      "metadata": {
        "id": "ELJ4h6QGgK5H"
      },
      "source": [
        ""
      ],
      "execution_count": 3,
      "outputs": []
    }
  ]
}